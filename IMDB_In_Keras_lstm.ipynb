{
  "nbformat": 4,
  "nbformat_minor": 0,
  "metadata": {
    "colab": {
      "name": "IMDB_In_Keras.ipynb",
      "version": "0.3.2",
      "provenance": []
    },
    "kernelspec": {
      "display_name": "Python 3",
      "language": "python",
      "name": "python3"
    }
  },
  "cells": [
    {
      "metadata": {
        "id": "mFN3GWmY1OhW",
        "colab_type": "text"
      },
      "cell_type": "markdown",
      "source": [
        "# Analyzing IMDB Data in Keras"
      ]
    },
    {
      "metadata": {
        "id": "WLPp9qNJ1Ohb",
        "colab_type": "code",
        "colab": {
          "base_uri": "https://localhost:8080/",
          "height": 34
        },
        "outputId": "756c133a-9e32-40b3-bcfa-4cf1e020b3ee"
      },
      "cell_type": "code",
      "source": [
        "# Imports\n",
        "import numpy as np\n",
        "import keras\n",
        "from keras.datasets import imdb\n",
        "from keras.models import Sequential\n",
        "from keras.layers import Dense, Dropout, Activation\n",
        "from keras.preprocessing.text import Tokenizer\n",
        "import matplotlib.pyplot as plt\n",
        "%matplotlib inline\n",
        "\n",
        "np.random.seed(42)"
      ],
      "execution_count": 2,
      "outputs": [
        {
          "output_type": "stream",
          "text": [
            "Using TensorFlow backend.\n"
          ],
          "name": "stderr"
        }
      ]
    },
    {
      "metadata": {
        "id": "ZYaqhdut1Oho",
        "colab_type": "text"
      },
      "cell_type": "markdown",
      "source": [
        "## 1. Loading the data\n",
        "This dataset comes preloaded with Keras, so one simple command will get us training and testing data. There is a parameter for how many words we want to look at. We've set it at 1000, but feel free to experiment."
      ]
    },
    {
      "metadata": {
        "id": "KvIZQciv1Ohr",
        "colab_type": "code",
        "colab": {
          "base_uri": "https://localhost:8080/",
          "height": 86
        },
        "outputId": "38ba9fc5-c497-4581-a7fd-bcf94c82495a"
      },
      "cell_type": "code",
      "source": [
        "# Loading the data (it's preloaded in Keras)\n",
        "(x_train, y_train), (x_test, y_test) = imdb.load_data(num_words=1000)\n",
        "\n",
        "print(x_train.shape)\n",
        "print(x_test.shape)"
      ],
      "execution_count": 3,
      "outputs": [
        {
          "output_type": "stream",
          "text": [
            "Downloading data from https://s3.amazonaws.com/text-datasets/imdb.npz\n",
            "17465344/17464789 [==============================] - 0s 0us/step\n",
            "(25000,)\n",
            "(25000,)\n"
          ],
          "name": "stdout"
        }
      ]
    },
    {
      "metadata": {
        "id": "zCU-av-E1Oh2",
        "colab_type": "text"
      },
      "cell_type": "markdown",
      "source": [
        "## 2. Examining the data\n",
        "Notice that the data has been already pre-processed, where all the words have numbers, and the reviews come in as a vector with the words that the review contains. For example, if the word 'the' is the first one in our dictionary, and a review contains the word 'the', then there is a 1 in the corresponding vector.\n",
        "\n",
        "The output comes as a vector of 1's and 0's, where 1 is a positive sentiment for the review, and 0 is negative."
      ]
    },
    {
      "metadata": {
        "id": "YpfPAg031Oh4",
        "colab_type": "code",
        "colab": {
          "base_uri": "https://localhost:8080/",
          "height": 72
        },
        "outputId": "2b618fa9-10c0-41e5-aa42-ae60171907c6"
      },
      "cell_type": "code",
      "source": [
        "print(x_train[0])\n",
        "print(y_train[0])"
      ],
      "execution_count": 4,
      "outputs": [
        {
          "output_type": "stream",
          "text": [
            "[1, 14, 22, 16, 43, 530, 973, 2, 2, 65, 458, 2, 66, 2, 4, 173, 36, 256, 5, 25, 100, 43, 838, 112, 50, 670, 2, 9, 35, 480, 284, 5, 150, 4, 172, 112, 167, 2, 336, 385, 39, 4, 172, 2, 2, 17, 546, 38, 13, 447, 4, 192, 50, 16, 6, 147, 2, 19, 14, 22, 4, 2, 2, 469, 4, 22, 71, 87, 12, 16, 43, 530, 38, 76, 15, 13, 2, 4, 22, 17, 515, 17, 12, 16, 626, 18, 2, 5, 62, 386, 12, 8, 316, 8, 106, 5, 4, 2, 2, 16, 480, 66, 2, 33, 4, 130, 12, 16, 38, 619, 5, 25, 124, 51, 36, 135, 48, 25, 2, 33, 6, 22, 12, 215, 28, 77, 52, 5, 14, 407, 16, 82, 2, 8, 4, 107, 117, 2, 15, 256, 4, 2, 7, 2, 5, 723, 36, 71, 43, 530, 476, 26, 400, 317, 46, 7, 4, 2, 2, 13, 104, 88, 4, 381, 15, 297, 98, 32, 2, 56, 26, 141, 6, 194, 2, 18, 4, 226, 22, 21, 134, 476, 26, 480, 5, 144, 30, 2, 18, 51, 36, 28, 224, 92, 25, 104, 4, 226, 65, 16, 38, 2, 88, 12, 16, 283, 5, 16, 2, 113, 103, 32, 15, 16, 2, 19, 178, 32]\n",
            "1\n"
          ],
          "name": "stdout"
        }
      ]
    },
    {
      "metadata": {
        "id": "KA8z6Grt1Oh_",
        "colab_type": "code",
        "colab": {
          "base_uri": "https://localhost:8080/",
          "height": 52
        },
        "outputId": "69e31634-4ee7-42bc-d566-03aa309ddd32"
      },
      "cell_type": "code",
      "source": [
        "print(len(x_train[0]))\n",
        "print(len(set(x_train[0])))\n",
        "#this suggest that there is some repetations"
      ],
      "execution_count": 5,
      "outputs": [
        {
          "output_type": "stream",
          "text": [
            "218\n",
            "97\n"
          ],
          "name": "stdout"
        }
      ]
    },
    {
      "metadata": {
        "id": "pw5M4a2C1Oij",
        "colab_type": "text"
      },
      "cell_type": "markdown",
      "source": [
        "And we'll also one-hot encode the output."
      ]
    },
    {
      "metadata": {
        "id": "ub468lnI1iRS",
        "colab_type": "code",
        "colab": {}
      },
      "cell_type": "code",
      "source": [
        "from keras.preprocessing import sequence\n",
        "\n",
        "max_words = 200\n",
        "X_train = sequence.pad_sequences(x_train, maxlen=max_words)\n",
        "X_test = sequence.pad_sequences(x_test, maxlen=max_words)"
      ],
      "execution_count": 0,
      "outputs": []
    },
    {
      "metadata": {
        "id": "VRbdeD9d1Oiq",
        "colab_type": "text"
      },
      "cell_type": "markdown",
      "source": [
        "## 4. Building the  model architecture\n",
        "Build a model here using sequential. Feel free to experiment with different layers and sizes! Also, experiment adding dropout to reduce overfitting."
      ]
    },
    {
      "metadata": {
        "id": "Mojs6GYA1xwV",
        "colab_type": "code",
        "colab": {
          "base_uri": "https://localhost:8080/",
          "height": 332
        },
        "outputId": "3eecc164-b571-41e8-e6a6-b62cc30b869b"
      },
      "cell_type": "code",
      "source": [
        "from keras import Sequential\n",
        "from keras.layers import Embedding, LSTM, Dense, Dropout\n",
        "\n",
        "embedding_size=32\n",
        "vocabulary_size=1000\n",
        "model=Sequential()\n",
        "model.add(Embedding(vocabulary_size, embedding_size, input_length=max_words))\n",
        "model.add(LSTM(100))\n",
        "model.add(Dense(1, activation='sigmoid'))\n",
        "\n",
        "print(model.summary())"
      ],
      "execution_count": 7,
      "outputs": [
        {
          "output_type": "stream",
          "text": [
            "WARNING:tensorflow:From /usr/local/lib/python3.6/dist-packages/tensorflow/python/framework/op_def_library.py:263: colocate_with (from tensorflow.python.framework.ops) is deprecated and will be removed in a future version.\n",
            "Instructions for updating:\n",
            "Colocations handled automatically by placer.\n",
            "_________________________________________________________________\n",
            "Layer (type)                 Output Shape              Param #   \n",
            "=================================================================\n",
            "embedding_1 (Embedding)      (None, 200, 32)           32000     \n",
            "_________________________________________________________________\n",
            "lstm_1 (LSTM)                (None, 100)               53200     \n",
            "_________________________________________________________________\n",
            "dense_1 (Dense)              (None, 1)                 101       \n",
            "=================================================================\n",
            "Total params: 85,301\n",
            "Trainable params: 85,301\n",
            "Non-trainable params: 0\n",
            "_________________________________________________________________\n",
            "None\n"
          ],
          "name": "stdout"
        }
      ]
    },
    {
      "metadata": {
        "id": "3YMNxDGT1Oi3",
        "colab_type": "text"
      },
      "cell_type": "markdown",
      "source": [
        "## 5. Training the model\n",
        "Run the model here. Experiment with different batch_size, and number of epochs!"
      ]
    },
    {
      "metadata": {
        "id": "0cfjqJzP2oxX",
        "colab_type": "code",
        "colab": {}
      },
      "cell_type": "code",
      "source": [
        "model.compile(loss='binary_crossentropy', \n",
        "             optimizer='adam', \n",
        "             metrics=['accuracy'])"
      ],
      "execution_count": 0,
      "outputs": []
    },
    {
      "metadata": {
        "id": "jPiTtxkz2siF",
        "colab_type": "code",
        "colab": {
          "base_uri": "https://localhost:8080/",
          "height": 451
        },
        "outputId": "2075a119-6698-4c5a-c557-ecc574f5696e"
      },
      "cell_type": "code",
      "source": [
        "batch_size = 64\n",
        "num_epochs = 10\n",
        "\n",
        "X_valid, y_valid = X_train[:batch_size], y_train[:batch_size]\n",
        "X_train2, y_train2 = X_train[batch_size:], y_train[batch_size:]\n",
        "\n",
        "model.fit(X_train2, y_train2, validation_data=(X_valid, y_valid), batch_size=batch_size, epochs=num_epochs)"
      ],
      "execution_count": 9,
      "outputs": [
        {
          "output_type": "stream",
          "text": [
            "WARNING:tensorflow:From /usr/local/lib/python3.6/dist-packages/tensorflow/python/ops/math_ops.py:3066: to_int32 (from tensorflow.python.ops.math_ops) is deprecated and will be removed in a future version.\n",
            "Instructions for updating:\n",
            "Use tf.cast instead.\n",
            "Train on 24936 samples, validate on 64 samples\n",
            "Epoch 1/10\n",
            "24936/24936 [==============================] - 167s 7ms/step - loss: 0.5180 - acc: 0.7268 - val_loss: 0.3133 - val_acc: 0.8906\n",
            "Epoch 2/10\n",
            "24936/24936 [==============================] - 166s 7ms/step - loss: 0.3533 - acc: 0.8511 - val_loss: 0.2335 - val_acc: 0.9062\n",
            "Epoch 3/10\n",
            "24936/24936 [==============================] - 166s 7ms/step - loss: 0.3363 - acc: 0.8589 - val_loss: 0.2166 - val_acc: 0.9062\n",
            "Epoch 4/10\n",
            "24936/24936 [==============================] - 167s 7ms/step - loss: 0.3237 - acc: 0.8625 - val_loss: 0.2620 - val_acc: 0.9062\n",
            "Epoch 5/10\n",
            "24936/24936 [==============================] - 165s 7ms/step - loss: 0.3098 - acc: 0.8693 - val_loss: 0.2398 - val_acc: 0.9062\n",
            "Epoch 6/10\n",
            "24936/24936 [==============================] - 166s 7ms/step - loss: 0.3001 - acc: 0.8731 - val_loss: 0.2317 - val_acc: 0.9219\n",
            "Epoch 7/10\n",
            "24936/24936 [==============================] - 164s 7ms/step - loss: 0.2948 - acc: 0.8754 - val_loss: 0.2351 - val_acc: 0.9375\n",
            "Epoch 8/10\n",
            "24936/24936 [==============================] - 165s 7ms/step - loss: 0.2816 - acc: 0.8815 - val_loss: 0.2441 - val_acc: 0.9375\n",
            "Epoch 9/10\n",
            "24936/24936 [==============================] - 165s 7ms/step - loss: 0.2735 - acc: 0.8838 - val_loss: 0.2560 - val_acc: 0.8906\n",
            "Epoch 10/10\n",
            "24936/24936 [==============================] - 165s 7ms/step - loss: 0.2581 - acc: 0.8922 - val_loss: 0.2130 - val_acc: 0.9219\n"
          ],
          "name": "stdout"
        },
        {
          "output_type": "execute_result",
          "data": {
            "text/plain": [
              "<keras.callbacks.History at 0x7efcc8efd748>"
            ]
          },
          "metadata": {
            "tags": []
          },
          "execution_count": 9
        }
      ]
    },
    {
      "metadata": {
        "id": "ukEcptse1OjA",
        "colab_type": "text"
      },
      "cell_type": "markdown",
      "source": [
        "## 6. Evaluating the model\n",
        "This will give you the accuracy of the model, as evaluated on the testing set. Can you get something over 85%?"
      ]
    },
    {
      "metadata": {
        "id": "mHLfo1LC1OjK",
        "colab_type": "code",
        "colab": {
          "base_uri": "https://localhost:8080/",
          "height": 34
        },
        "outputId": "c8dca2bb-c5ab-4ca2-d393-26d51b559d4b"
      },
      "cell_type": "code",
      "source": [
        "scores = model.evaluate(X_test, y_test, verbose=0)\n",
        "print('Test accuracy:', scores[1])"
      ],
      "execution_count": 10,
      "outputs": [
        {
          "output_type": "stream",
          "text": [
            "Test accuracy: 0.86532\n"
          ],
          "name": "stdout"
        }
      ]
    },
    {
      "metadata": {
        "id": "ihV6F65PQrZP",
        "colab_type": "code",
        "colab": {}
      },
      "cell_type": "code",
      "source": [
        ""
      ],
      "execution_count": 0,
      "outputs": []
    }
  ]
}